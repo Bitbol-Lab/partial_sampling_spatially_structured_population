{
 "cells": [
  {
   "cell_type": "markdown",
   "metadata": {},
   "source": [
    "# Imports"
   ]
  },
  {
   "cell_type": "code",
   "execution_count": 3,
   "metadata": {},
   "outputs": [
    {
     "ename": "ModuleNotFoundError",
     "evalue": "No module named 'scipy'",
     "output_type": "error",
     "traceback": [
      "\u001b[1;31m---------------------------------------------------------------------------\u001b[0m",
      "\u001b[1;31mModuleNotFoundError\u001b[0m                       Traceback (most recent call last)",
      "Cell \u001b[1;32mIn[3], line 2\u001b[0m\n\u001b[0;32m      1\u001b[0m \u001b[38;5;28;01mimport\u001b[39;00m \u001b[38;5;21;01mnumpy\u001b[39;00m \u001b[38;5;28;01mas\u001b[39;00m \u001b[38;5;21;01mnp\u001b[39;00m\n\u001b[1;32m----> 2\u001b[0m \u001b[38;5;28;01mfrom\u001b[39;00m \u001b[38;5;21;01mscipy\u001b[39;00m\u001b[38;5;21;01m.\u001b[39;00m\u001b[38;5;21;01mspecial\u001b[39;00m \u001b[38;5;28;01mimport\u001b[39;00m comb\n\u001b[0;32m      3\u001b[0m \u001b[38;5;28;01mimport\u001b[39;00m \u001b[38;5;21;01mrandom\u001b[39;00m \u001b[38;5;28;01mas\u001b[39;00m \u001b[38;5;21;01mrd\u001b[39;00m\n\u001b[0;32m      4\u001b[0m \u001b[38;5;28;01mimport\u001b[39;00m \u001b[38;5;21;01mmatplotlib\u001b[39;00m\u001b[38;5;21;01m.\u001b[39;00m\u001b[38;5;21;01mpyplot\u001b[39;00m \u001b[38;5;28;01mas\u001b[39;00m \u001b[38;5;21;01mplt\u001b[39;00m\n",
      "\u001b[1;31mModuleNotFoundError\u001b[0m: No module named 'scipy'"
     ]
    }
   ],
   "source": [
    "import numpy as np\n",
    "from scipy.special import comb\n",
    "import random as rd\n",
    "import matplotlib.pyplot as plt"
   ]
  },
  {
   "cell_type": "markdown",
   "metadata": {},
   "source": [
    "# Utility functions"
   ]
  },
  {
   "cell_type": "code",
   "execution_count": 79,
   "metadata": {},
   "outputs": [],
   "source": [
    "def compute_hypergeometric_prob(N, M, i, k):\n",
    "    return comb(i,k)*comb(N-i, M-k) / comb(N,M)\n",
    "\n",
    "def compute_WF_prob(N,i,j,s):\n",
    "    p = i*(1+s) / (i*(1+s) + N-i)\n",
    "    if p==0:\n",
    "        if j==0:\n",
    "            res = 1\n",
    "        else:\n",
    "            res = 0\n",
    "    elif p==1:\n",
    "        if j==N:\n",
    "            res = 1\n",
    "        else:\n",
    "            res=0\n",
    "    else:\n",
    "        res = comb(N,j) * (p**j) * ((1-p)**(N-j))\n",
    "    return res\n",
    "\n",
    "def compute_transition_matrix(N,M,s):\n",
    "    P = np.zeros((N+1,N+1))\n",
    "    for i in range(N+1):\n",
    "        for j in range(N+1):\n",
    "            coeff = sum([compute_hypergeometric_prob(N,M,i,k) * compute_WF_prob(M,i,k+j-i,s)\n",
    "                         for k in range(i+1)])\n",
    "            P[i,j] = coeff\n",
    "    return P\n",
    "\n",
    "def draw_from_prob_vector(prob_vector):\n",
    "    #assert abs(sum(prob_vector) - 1 )< 1e-10\n",
    "    cumulated_vector = [sum(prob_vector[:k+1]) for k in range(len(prob_vector))]\n",
    "    x = rd.random()\n",
    "    i=0\n",
    "    b = True\n",
    "    while i < len(prob_vector) and b:\n",
    "        b = (x > cumulated_vector[i])\n",
    "        i += 1\n",
    "    return int(i-1)\n",
    "    \n"
   ]
  },
  {
   "cell_type": "markdown",
   "metadata": {},
   "source": [
    "# Simulating"
   ]
  },
  {
   "cell_type": "code",
   "execution_count": 90,
   "metadata": {},
   "outputs": [],
   "source": [
    "\n",
    "def simulate_trajectory(N, M, s, tmax, initial_state=1):\n",
    "    states = [initial_state]\n",
    "    current_state = initial_state\n",
    "    t=0\n",
    "    P = compute_transition_matrix(N,M,s)\n",
    "    b = True\n",
    "    while t<tmax and b:\n",
    "        prob_vector = [P[current_state,j] for j in range(N+1)]\n",
    "        current_state = draw_from_prob_vector(prob_vector)\n",
    "        states.append(current_state)\n",
    "        t += 1\n",
    "        b = (current_state < N)and(current_state > 0)\n",
    "        \n",
    "    fixation = current_state == N\n",
    "    return states, fixation\n",
    "\n",
    "N = 10\n",
    "M = 5\n",
    "s = 0.1\n",
    "tmax = 1000\n",
    "\n",
    "states, fixation = simulate_trajectory(N,M,s,tmax)\n"
   ]
  },
  {
   "cell_type": "code",
   "execution_count": 99,
   "metadata": {},
   "outputs": [
    {
     "data": {
      "text/plain": [
       "(0.0, 10.0)"
      ]
     },
     "execution_count": 99,
     "metadata": {},
     "output_type": "execute_result"
    },
    {
     "data": {
      "image/png": "[encoded data removed]",
      "text/plain": [
       "<Figure size 640x480 with 1 Axes>"
      ]
     },
     "metadata": {},
     "output_type": "display_data"
    }
   ],
   "source": [
    "N = 10\n",
    "M = 5\n",
    "s = 0.01\n",
    "tmax = 1000\n",
    "\n",
    "states, fixation = simulate_trajectory(N,M,s,tmax)\n",
    "\n",
    "plt.plot(states)\n",
    "plt.ylim([0,N])\n"
   ]
  },
  {
   "cell_type": "markdown",
   "metadata": {},
   "source": [
    "## Max iterations\n",
    "From \"Bridging Wright-Fisher and Moran models\", we can derive an approximated time to reach fixation:\n",
    "\n",
    "we know that $\\left\\| \\pi_t - \\pi_\\infty \\right\\|\\propto \\lambda_*^t$ where $\\lambda_* = 1 - \\frac{\\rho(2-\\rho)}{N}$ and $\\rho = M/N$\n",
    "\n",
    "Then having $\\left\\| \\pi_t - \\pi_\\infty \\right\\| \\approx \\varepsilon$ requires $t \\approx \\frac{\\log(\\varepsilon)}{\\log(\\lambda_*)}$\n"
   ]
  },
  {
   "cell_type": "code",
   "execution_count": 125,
   "metadata": {},
   "outputs": [
    {
     "data": {
      "text/plain": [
       "1146"
      ]
     },
     "execution_count": 125,
     "metadata": {},
     "output_type": "execute_result"
    }
   ],
   "source": [
    "def compute_tmax(N,M, epsilon=1e-5):\n",
    "    rho = M/N\n",
    "    lambda_star = 1 - rho * (2-rho) / N\n",
    "    tmax = np.log(epsilon) / np.log(lambda_star)\n",
    "    return int(np.ceil(tmax))\n",
    "\n",
    "compute_tmax(100,100)"
   ]
  },
  {
   "cell_type": "markdown",
   "metadata": {},
   "source": [
    "## Multiple simulations"
   ]
  },
  {
   "cell_type": "code",
   "execution_count": 111,
   "metadata": {},
   "outputs": [],
   "source": [
    "\n",
    "def simulate_multiple_trajectories(N, M, s, tmax, nb_trajectories=100, initial_state=1):\n",
    "    all_trajectories = np.zeros((int(nb_trajectories),int(tmax)))\n",
    "    all_trajectories[:,0] = initial_state\n",
    "    P = compute_transition_matrix(N,M,s)\n",
    "\n",
    "    count_fixation = 0\n",
    "\n",
    "\n",
    "    for trajectory_index in range(nb_trajectories):\n",
    "        states = [initial_state]\n",
    "        current_state = initial_state\n",
    "        t=1\n",
    "        b = True\n",
    "        while t<tmax and b:\n",
    "            prob_vector = [P[current_state,j] for j in range(N+1)]\n",
    "            current_state = draw_from_prob_vector(prob_vector)\n",
    "            states.append(current_state)\n",
    "            t += 1\n",
    "            b = (current_state < N)and(current_state > 0)\n",
    "                \n",
    "        fixation = current_state == N\n",
    "\n",
    "        count_fixation += fixation\n",
    "\n",
    "        if len(states) != tmax:\n",
    "            if fixation:\n",
    "                states = states + (tmax-len(states))*[N]\n",
    "        \n",
    "        for j in range(len(states)):\n",
    "            all_trajectories[trajectory_index,j] = states[j]\n",
    "        \n",
    "\n",
    "    return all_trajectories, count_fixation\n",
    "\n",
    "N = 10\n",
    "M = 5\n",
    "s = 0.1\n",
    "tmax = compute_tmax(N,M)\n",
    "\n",
    "trajectories, count_fixation = simulate_multiple_trajectories(N,M,s,tmax)"
   ]
  },
  {
   "cell_type": "code",
   "execution_count": 114,
   "metadata": {},
   "outputs": [
    {
     "name": "stdout",
     "output_type": "stream",
     "text": [
      "80\n"
     ]
    },
    {
     "data": {
      "image/png": "[encoded data removed]",
      "text/plain": [
       "<Figure size 640x480 with 1 Axes>"
      ]
     },
     "metadata": {},
     "output_type": "display_data"
    }
   ],
   "source": [
    "nb_trajectories = trajectories.shape[0]\n",
    "alpha = 0.1\n",
    "\n",
    "print(count_fixation)\n",
    "\n",
    "for i in range(nb_trajectories):\n",
    "    y = trajectories[i,:]\n",
    "    plt.plot(y, 'b', alpha= alpha)\n",
    "plt.show()\n"
   ]
  },
  {
   "cell_type": "markdown",
   "metadata": {},
   "source": [
    "## Comparing theoretical and experimental fixation probability\n",
    "\n",
    "For $N \\gg 1$ and $s \\approx 1/N$ (Kimura's diffusion approximation),\n",
    "\n",
    "$\\phi (x) = \\frac{1-\\exp\\left(-\\frac{2Nsx}{2-\\rho}\\right))}{1-\\exp\\left(-\\frac{2Ns}{2-\\rho}\\right))}$\n",
    "\n",
    "If $x = 1/N$ (starting from one mutant), $s \\ll 1$, $N\\gg 1$, and $Ns \\gg 1$, a simpler approximation for the fixation probability can be obtained:\n",
    "\n",
    "$\\phi _1 = \\frac{2s}{2-\\rho}$\n"
   ]
  },
  {
   "cell_type": "code",
   "execution_count": 116,
   "metadata": {},
   "outputs": [],
   "source": [
    "def phi(N,s,rho,x):\n",
    "    num = 1 - np.exp(-2*N*s*x / (2-rho))\n",
    "    denom = 1 - np.exp(-2*N*s / (2-rho))\n",
    "    return num/denom\n",
    "\n",
    "def phi_1(s,rho):\n",
    "    return 2*s/(2-rho)\n"
   ]
  },
  {
   "cell_type": "code",
   "execution_count": 128,
   "metadata": {},
   "outputs": [
    {
     "ename": "OverflowError",
     "evalue": "(34, 'Result too large')",
     "output_type": "error",
     "traceback": [
      "\u001b[1;31m---------------------------------------------------------------------------\u001b[0m",
      "\u001b[1;31mOverflowError\u001b[0m                             Traceback (most recent call last)",
      "Cell \u001b[1;32mIn[128], line 11\u001b[0m\n\u001b[0;32m      9\u001b[0m \u001b[38;5;28;01mfor\u001b[39;00m M \u001b[38;5;129;01min\u001b[39;00m \u001b[38;5;28mrange\u001b[39m(\u001b[38;5;241m1\u001b[39m,N\u001b[38;5;241m+\u001b[39m\u001b[38;5;241m1\u001b[39m):\n\u001b[0;32m     10\u001b[0m     rhos\u001b[38;5;241m.\u001b[39mappend(M\u001b[38;5;241m/\u001b[39mN)\n\u001b[1;32m---> 11\u001b[0m     trajectories, count_fixation \u001b[38;5;241m=\u001b[39m \u001b[43msimulate_multiple_trajectories\u001b[49m\u001b[43m(\u001b[49m\u001b[43mN\u001b[49m\u001b[43m,\u001b[49m\u001b[43mM\u001b[49m\u001b[43m,\u001b[49m\u001b[43ms\u001b[49m\u001b[43m,\u001b[49m\u001b[43mtmax\u001b[49m\u001b[43m)\u001b[49m\n\u001b[0;32m     12\u001b[0m     fixation_freq \u001b[38;5;241m=\u001b[39m count_fixation \u001b[38;5;241m/\u001b[39m trajectories\u001b[38;5;241m.\u001b[39mshape[\u001b[38;5;241m0\u001b[39m]\n\u001b[0;32m     13\u001b[0m     fixation_freqs\u001b[38;5;241m.\u001b[39mappend(fixation_freq)\n",
      "Cell \u001b[1;32mIn[111], line 4\u001b[0m, in \u001b[0;36msimulate_multiple_trajectories\u001b[1;34m(N, M, s, tmax, nb_trajectories, initial_state)\u001b[0m\n\u001b[0;32m      2\u001b[0m all_trajectories \u001b[38;5;241m=\u001b[39m np\u001b[38;5;241m.\u001b[39mzeros((\u001b[38;5;28mint\u001b[39m(nb_trajectories),\u001b[38;5;28mint\u001b[39m(tmax)))\n\u001b[0;32m      3\u001b[0m all_trajectories[:,\u001b[38;5;241m0\u001b[39m] \u001b[38;5;241m=\u001b[39m initial_state\n\u001b[1;32m----> 4\u001b[0m P \u001b[38;5;241m=\u001b[39m \u001b[43mcompute_transition_matrix\u001b[49m\u001b[43m(\u001b[49m\u001b[43mN\u001b[49m\u001b[43m,\u001b[49m\u001b[43mM\u001b[49m\u001b[43m,\u001b[49m\u001b[43ms\u001b[49m\u001b[43m)\u001b[49m\n\u001b[0;32m      6\u001b[0m count_fixation \u001b[38;5;241m=\u001b[39m \u001b[38;5;241m0\u001b[39m\n\u001b[0;32m      9\u001b[0m \u001b[38;5;28;01mfor\u001b[39;00m trajectory_index \u001b[38;5;129;01min\u001b[39;00m \u001b[38;5;28mrange\u001b[39m(nb_trajectories):\n",
      "Cell \u001b[1;32mIn[79], line 24\u001b[0m, in \u001b[0;36mcompute_transition_matrix\u001b[1;34m(N, M, s)\u001b[0m\n\u001b[0;32m     22\u001b[0m \u001b[38;5;28;01mfor\u001b[39;00m i \u001b[38;5;129;01min\u001b[39;00m \u001b[38;5;28mrange\u001b[39m(N\u001b[38;5;241m+\u001b[39m\u001b[38;5;241m1\u001b[39m):\n\u001b[0;32m     23\u001b[0m     \u001b[38;5;28;01mfor\u001b[39;00m j \u001b[38;5;129;01min\u001b[39;00m \u001b[38;5;28mrange\u001b[39m(N\u001b[38;5;241m+\u001b[39m\u001b[38;5;241m1\u001b[39m):\n\u001b[1;32m---> 24\u001b[0m         coeff \u001b[38;5;241m=\u001b[39m \u001b[38;5;28msum\u001b[39m([compute_hypergeometric_prob(N,M,i,k) \u001b[38;5;241m*\u001b[39m compute_WF_prob(M,i,k\u001b[38;5;241m+\u001b[39mj\u001b[38;5;241m-\u001b[39mi,s)\n\u001b[0;32m     25\u001b[0m                      \u001b[38;5;28;01mfor\u001b[39;00m k \u001b[38;5;129;01min\u001b[39;00m \u001b[38;5;28mrange\u001b[39m(i\u001b[38;5;241m+\u001b[39m\u001b[38;5;241m1\u001b[39m)])\n\u001b[0;32m     26\u001b[0m         P[i,j] \u001b[38;5;241m=\u001b[39m coeff\n\u001b[0;32m     27\u001b[0m \u001b[38;5;28;01mreturn\u001b[39;00m P\n",
      "Cell \u001b[1;32mIn[79], line 24\u001b[0m, in \u001b[0;36m<listcomp>\u001b[1;34m(.0)\u001b[0m\n\u001b[0;32m     22\u001b[0m \u001b[38;5;28;01mfor\u001b[39;00m i \u001b[38;5;129;01min\u001b[39;00m \u001b[38;5;28mrange\u001b[39m(N\u001b[38;5;241m+\u001b[39m\u001b[38;5;241m1\u001b[39m):\n\u001b[0;32m     23\u001b[0m     \u001b[38;5;28;01mfor\u001b[39;00m j \u001b[38;5;129;01min\u001b[39;00m \u001b[38;5;28mrange\u001b[39m(N\u001b[38;5;241m+\u001b[39m\u001b[38;5;241m1\u001b[39m):\n\u001b[1;32m---> 24\u001b[0m         coeff \u001b[38;5;241m=\u001b[39m \u001b[38;5;28msum\u001b[39m([compute_hypergeometric_prob(N,M,i,k) \u001b[38;5;241m*\u001b[39m \u001b[43mcompute_WF_prob\u001b[49m\u001b[43m(\u001b[49m\u001b[43mM\u001b[49m\u001b[43m,\u001b[49m\u001b[43mi\u001b[49m\u001b[43m,\u001b[49m\u001b[43mk\u001b[49m\u001b[38;5;241;43m+\u001b[39;49m\u001b[43mj\u001b[49m\u001b[38;5;241;43m-\u001b[39;49m\u001b[43mi\u001b[49m\u001b[43m,\u001b[49m\u001b[43ms\u001b[49m\u001b[43m)\u001b[49m\n\u001b[0;32m     25\u001b[0m                      \u001b[38;5;28;01mfor\u001b[39;00m k \u001b[38;5;129;01min\u001b[39;00m \u001b[38;5;28mrange\u001b[39m(i\u001b[38;5;241m+\u001b[39m\u001b[38;5;241m1\u001b[39m)])\n\u001b[0;32m     26\u001b[0m         P[i,j] \u001b[38;5;241m=\u001b[39m coeff\n\u001b[0;32m     27\u001b[0m \u001b[38;5;28;01mreturn\u001b[39;00m P\n",
      "Cell \u001b[1;32mIn[79], line 17\u001b[0m, in \u001b[0;36mcompute_WF_prob\u001b[1;34m(N, i, j, s)\u001b[0m\n\u001b[0;32m     15\u001b[0m         res\u001b[38;5;241m=\u001b[39m\u001b[38;5;241m0\u001b[39m\n\u001b[0;32m     16\u001b[0m \u001b[38;5;28;01melse\u001b[39;00m:\n\u001b[1;32m---> 17\u001b[0m     res \u001b[38;5;241m=\u001b[39m comb(N,j) \u001b[38;5;241m*\u001b[39m (p\u001b[38;5;241m*\u001b[39m\u001b[38;5;241m*\u001b[39mj) \u001b[38;5;241m*\u001b[39m (\u001b[43m(\u001b[49m\u001b[38;5;241;43m1\u001b[39;49m\u001b[38;5;241;43m-\u001b[39;49m\u001b[43mp\u001b[49m\u001b[43m)\u001b[49m\u001b[38;5;241;43m*\u001b[39;49m\u001b[38;5;241;43m*\u001b[39;49m\u001b[43m(\u001b[49m\u001b[43mN\u001b[49m\u001b[38;5;241;43m-\u001b[39;49m\u001b[43mj\u001b[49m\u001b[43m)\u001b[49m)\n\u001b[0;32m     18\u001b[0m \u001b[38;5;28;01mreturn\u001b[39;00m res\n",
      "\u001b[1;31mOverflowError\u001b[0m: (34, 'Result too large')"
     ]
    }
   ],
   "source": [
    "## Varying rho (M)\n",
    "\n",
    "N = 50\n",
    "s = 0.02\n",
    "tmax = 1000\n",
    "rhos = []\n",
    "fixation_freqs = []\n",
    "\n",
    "for M in range(1,N+1):\n",
    "    rhos.append(M/N)\n",
    "    trajectories, count_fixation = simulate_multiple_trajectories(N,M,s,tmax)\n",
    "    fixation_freq = count_fixation / trajectories.shape[0]\n",
    "    fixation_freqs.append(fixation_freq)\n",
    "\n",
    "rhos = np.array(rhos)\n",
    "plt.scatter(rhos, fixation_freqs)\n",
    "plt.plot(rhos, [phi(N,s,rho,1/N) for rho in rhos],'b--')\n",
    "plt.plot(rhos, [phi_1(s,rho) for rho in rhos], 'r--')\n",
    "plt.xlim([0,1])\n",
    "plt.xlabel('rho')\n",
    "plt.ylabel('Fixation probability')\n",
    "plt.show()\n",
    "\n"
   ]
  }
 ],
 "metadata": {
  "kernelspec": {
   "display_name": ".venv",
   "language": "python",
   "name": "python3"
  },
  "language_info": {
   "codemirror_mode": {
    "name": "ipython",
    "version": 3
   },
   "file_extension": ".py",
   "mimetype": "text/x-python",
   "name": "python",
   "nbconvert_exporter": "python",
   "pygments_lexer": "ipython3",
   "version": "3.10.11"
  }
 },
 "nbformat": 4,
 "nbformat_minor": 2
}
