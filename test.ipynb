{
 "cells": [
  {
   "cell_type": "code",
   "execution_count": 6,
   "metadata": {},
   "outputs": [
    {
     "name": "stdout",
     "output_type": "stream",
     "text": [
      "{'parameters': {'job_array_nb': 1, 'type': 'well-mixed', 'N': 100, 'M': 50, 'log_s_min': -6, 'log_s_max': -3, 'nb_trajectories': 1000}, 's_range': [1e-06, 2.1544346900318822e-06, 4.641588833612782e-06, 1e-05, 2.1544346900318823e-05, 4.641588833612772e-05, 0.0001, 0.00021544346900318823, 0.00046415888336127773, 0.001], 'nb_fixations': [9.0, 10.0, 8.0, 7.0, 9.0, 12.0, 10.0, 12.0, 15.0, 13.0]}\n"
     ]
    }
   ],
   "source": [
    "import json\n",
    "\n",
    "with open('results/WM_1_100_50_-6_-3_1000.json', 'r') as file:\n",
    "    data = json.load(file)\n",
    "\n",
    "print(data)"
   ]
  },
  {
   "cell_type": "code",
   "execution_count": 10,
   "metadata": {},
   "outputs": [
    {
     "name": "stdout",
     "output_type": "stream",
     "text": [
      "['Clique_1_10_5_-6_-3_1000_0.1_5.json', 'Cycle_1_10_5_-6_-3_1000_0.1_5_1.0.json', 'Star_1_10_5_-6_-3_1000_0.1_5_1.0.json', 'WM_1_100_50_-6_-3_1000.json', 'WM_mat_1_100_50_-6_-3.json']\n",
      "Clique_1_10_5_-6_-3_1000_0.1_5 .json\n",
      "Cycle_1_10_5_-6_-3_1000_0.1_5_1.0 .json\n",
      "Star_1_10_5_-6_-3_1000_0.1_5_1.0 .json\n",
      "WM_1_100_50_-6_-3_1000 .json\n",
      "WM_1_100_50_-6_-3_1000.json\n",
      "WM_mat_1_100_50_-6_-3 .json\n",
      "WM_mat_1_100_50_-6_-3.json\n"
     ]
    }
   ],
   "source": [
    "import os\n",
    "\n",
    "print(os.listdir('results'))\n",
    "for filename in os.listdir('results'):\n",
    "    root, ext = os.path.splitext(filename)\n",
    "    print(root, ext)\n",
    "    if root.startswith('WM') and ext == '.json':\n",
    "        print(filename)"
   ]
  },
  {
   "cell_type": "code",
   "execution_count": 11,
   "metadata": {},
   "outputs": [
    {
     "data": {
      "text/plain": [
       "'1'"
      ]
     },
     "execution_count": 11,
     "metadata": {},
     "output_type": "execute_result"
    }
   ],
   "source": [
    "str(1)"
   ]
  }
 ],
 "metadata": {
  "kernelspec": {
   "display_name": ".venv",
   "language": "python",
   "name": "python3"
  },
  "language_info": {
   "codemirror_mode": {
    "name": "ipython",
    "version": 3
   },
   "file_extension": ".py",
   "mimetype": "text/x-python",
   "name": "python",
   "nbconvert_exporter": "python",
   "pygments_lexer": "ipython3",
   "version": "3.10.11"
  }
 },
 "nbformat": 4,
 "nbformat_minor": 2
}
